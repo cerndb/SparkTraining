{
 "cells": [
  {
   "cell_type": "markdown",
   "metadata": {},
   "source": [
    "<img src=\"https://swan.web.cern.ch/sites/swan.web.cern.ch/files/pictures/logo_swan_letters.png\" alt=\"SWAN\" style=\"float: left; width: 20%; margin-right: 15%; margin-left: 15%; margin-bottom: 2.0em;\">\n",
    "<img src=\"https://spark.apache.org/images/spark-logo-trademark.png\" alt=\"EP-SFT\" style=\"float: left; width: 25%; margin-right: 15%; margin-bottom: 2.0em;\">\n",
    "<p style=\"clear: both;\">\n",
    "<div style=\"text-align:center\"><h1>Integration of SWAN with Spark clusters</h1></div>\n",
    "<hr style=\"border-top-width: 4px; border-top-color: #34609b;\">"
   ]
  },
  {
   "cell_type": "markdown",
   "metadata": {},
   "source": [
    "The current setup allows to execute PySpark operations on CERN Hadoop and Spark clusters. \n",
    "\n",
    "This notebook illustrates the use of __Spark in SWAN to access CERN Accelerator logging service data__."
   ]
  },
  {
   "cell_type": "markdown",
   "metadata": {},
   "source": [
    "### Connect to the cluster (NXCals)\n",
    "In the SWAN configuration menu:\n",
    "- Choose the NXCals project software stack\n",
    "- Choose the NXCals Hadoop cluster"
   ]
  },
  {
   "cell_type": "markdown",
   "metadata": {},
   "source": [
    "To connect to a cluster, click on the star button on the top and follow the instructions\n",
    "* The star button only appears if you have selected a SPARK cluster in the configuration\n",
    "* The star button is active after the notebook kernel is ready\n",
    "* SELECT NXCALS configuration bundle\n",
    "* Access to the cluster and NXCALS data is controlled by acc-logging-team, please write to acc-logging-team@cern.ch\n"
   ]
  },
  {
   "cell_type": "markdown",
   "metadata": {},
   "source": [
    "# NXCals DataExtraction API - Examples\n",
    "See NXCals API documentation at - http://nxcals-docs.web.cern.ch/current/"
   ]
  },
  {
   "cell_type": "markdown",
   "metadata": {},
   "source": [
    "## 1) Extract data using device/property pairs"
   ]
  },
  {
   "cell_type": "code",
   "execution_count": 1,
   "metadata": {},
   "outputs": [],
   "source": [
    "# source the nxcals python libs\n",
    "from cern.nxcals.api.extraction.data.builders import *\n",
    "from cern.nxcals.pyquery.builders import *\n",
    "\n",
    "# build the query and load data into spark dataframe\n",
    "df1 = DevicePropertyQuery \\\n",
    "            .builder(spark) \\\n",
    "            .system(\"CMW\") \\\n",
    "            .startTime(\"2022-11-01 00:00:00.000\") \\\n",
    "            .endTime(\"2022-11-02 00:00:00.000\") \\\n",
    "            .entity() \\\n",
    "            .parameter(\"RADMON.PS-10/ExpertMonitoringAcquisition\") \\\n",
    "            .buildDataset()"
   ]
  },
  {
   "cell_type": "markdown",
   "metadata": {},
   "source": [
    "### Inspect data"
   ]
  },
  {
   "cell_type": "code",
   "execution_count": 2,
   "metadata": {},
   "outputs": [
    {
     "name": "stdout",
     "output_type": "stream",
     "text": [
      "root\n",
      " |-- PinDiodeVoltageOutOfRange: boolean (nullable = true)\n",
      " |-- Radfet1VoltageOutOfRange: boolean (nullable = true)\n",
      " |-- Radfet2VoltageOutOfRange: boolean (nullable = true)\n",
      " |-- __record_timestamp__: long (nullable = true)\n",
      " |-- __record_version__: long (nullable = true)\n",
      " |-- acqStamp: long (nullable = true)\n",
      " |-- class: string (nullable = true)\n",
      " |-- current_18V: double (nullable = true)\n",
      " |-- current_8V5: double (nullable = true)\n",
      " |-- current_memBanks: double (nullable = true)\n",
      " |-- current_radfet: double (nullable = true)\n",
      " |-- cyclestamp: long (nullable = true)\n",
      " |-- device: string (nullable = true)\n",
      " |-- property: string (nullable = true)\n",
      " |-- pt100Value: double (nullable = true)\n",
      " |-- selector: string (nullable = true)\n",
      " |-- temperatureDeported: double (nullable = true)\n",
      " |-- temperatureSensorBoard: double (nullable = true)\n",
      " |-- voltage_18V: double (nullable = true)\n",
      " |-- voltage_3V3: double (nullable = true)\n",
      " |-- voltage_3VNeg: double (nullable = true)\n",
      " |-- voltage_5V: double (nullable = true)\n",
      " |-- voltage_memoryBank2: double (nullable = true)\n",
      " |-- voltage_sensorAdcRef: double (nullable = true)\n",
      " |-- warningBits: integer (nullable = true)\n",
      " |-- nxcals_entity_id: long (nullable = true)\n",
      "\n"
     ]
    }
   ],
   "source": [
    "df1.printSchema()"
   ]
  },
  {
   "cell_type": "code",
   "execution_count": 3,
   "metadata": {},
   "outputs": [
    {
     "name": "stdout",
     "output_type": "stream",
     "text": [
      "+-------------------+------------------+------------------+------------+------------------+\n",
      "|           acqStamp|       voltage_18V|       current_18V|      device|        pt100Value|\n",
      "+-------------------+------------------+------------------+------------+------------------+\n",
      "|1667260801078283000|              null|              null|RADMON.PS-10|       109.4169887|\n",
      "|1667260802078290000|              null| 44.00730505585671|RADMON.PS-10|109.29791806000001|\n",
      "|1667260803078315000| 20.02644650638104|44.098701328039176|RADMON.PS-10|109.08954444000001|\n",
      "|1667260805078360000| 20.02644650638104|     44.1291667521|RADMON.PS-10|108.70256486000001|\n",
      "|1667260807078387000|20.024923235177997|44.464286416769035|RADMON.PS-10|      109.49140785|\n",
      "|1667260808078408000|              null| 44.02253776788712|RADMON.PS-10|      108.77698401|\n",
      "|1667260809078413000|              null| 44.40335556864739|RADMON.PS-10|      108.76210018|\n",
      "|1667260811078467000|20.024923235177997| 44.38812285661698|RADMON.PS-10|              null|\n",
      "|1667260812078480000|              null|44.053003191947944|RADMON.PS-10|              null|\n",
      "|1667260813078499000|              null|              null|RADMON.PS-10|      109.05977678|\n",
      "|1667260814078513000| 20.02796977758408| 44.00730505585671|RADMON.PS-10|108.68768103000001|\n",
      "|1667260815078547000|20.024923235177997| 44.38812285661698|RADMON.PS-10|      109.22349891|\n",
      "|1667260816078531000|              null| 44.00730505585671|RADMON.PS-10|      108.95558997|\n",
      "|1667260817078565000|              null| 44.40335556864739|RADMON.PS-10|109.53605934000001|\n",
      "|1667260820078616000|              null| 44.11393404006959|RADMON.PS-10|108.97047380000001|\n",
      "|1667260821078618000| 20.02644650638104|              null|RADMON.PS-10|108.73233252000001|\n",
      "|1667260822078631000|              null| 43.97683963179589|RADMON.PS-10|109.53605934000001|\n",
      "|1667260823078639000|              null|44.053003191947944|RADMON.PS-10|109.46164019000001|\n",
      "|1667260824078638000|              null| 44.31195929646493|RADMON.PS-10|              null|\n",
      "|1667260829078727000| 20.02644650638104|              null|RADMON.PS-10|108.92582231000002|\n",
      "+-------------------+------------------+------------------+------------+------------------+\n",
      "only showing top 20 rows\n",
      "\n"
     ]
    }
   ],
   "source": [
    "df1.select('acqStamp','voltage_18V','current_18V','device','pt100Value').show()"
   ]
  },
  {
   "cell_type": "markdown",
   "metadata": {},
   "source": [
    "### Register the dataFrame as temporary table (myData) to write direct SQL queries."
   ]
  },
  {
   "cell_type": "code",
   "execution_count": 4,
   "metadata": {},
   "outputs": [],
   "source": [
    "df1.createOrReplaceTempView(\"myData\")"
   ]
  },
  {
   "cell_type": "code",
   "execution_count": 5,
   "metadata": {},
   "outputs": [
    {
     "name": "stdout",
     "output_type": "stream",
     "text": [
      "+-------------------+-------------------+\n",
      "|      min(acqStamp)|      max(acqStamp)|\n",
      "+-------------------+-------------------+\n",
      "|1667260800078284000|1667347199568841000|\n",
      "+-------------------+-------------------+\n",
      "\n"
     ]
    }
   ],
   "source": [
    "# a simple select with min / max\n",
    "spark.sql(\"select  min(acqStamp), max(acqStamp) from myData\").show()"
   ]
  },
  {
   "cell_type": "code",
   "execution_count": 6,
   "metadata": {},
   "outputs": [
    {
     "name": "stdout",
     "output_type": "stream",
     "text": [
      "+------------+--------+\n",
      "|      device|count(1)|\n",
      "+------------+--------+\n",
      "|RADMON.PS-10|   86399|\n",
      "+------------+--------+\n",
      "\n"
     ]
    }
   ],
   "source": [
    "# some aggregation...\n",
    "spark.sql(\"select device, count(*) from myData group by device\").show()"
   ]
  },
  {
   "cell_type": "markdown",
   "metadata": {},
   "source": [
    "### Draw a plot using matplotlib"
   ]
  },
  {
   "cell_type": "code",
   "execution_count": 7,
   "metadata": {},
   "outputs": [],
   "source": [
    "# Select the data columns of interest\n",
    "# fetch data into a Pandas dataframe for visualization\n",
    "import pandas as pd\n",
    "\n",
    "p_df = df1.select('acqStamp','current_18V').filter(\"current_18V is not null\").toPandas()\n"
   ]
  },
  {
   "cell_type": "code",
   "execution_count": 8,
   "metadata": {},
   "outputs": [
    {
     "data": {
      "image/png": "[encoded data removed]",
      "text/plain": [
       "<Figure size 1080x360 with 1 Axes>"
      ]
     },
     "metadata": {
      "needs_background": "light"
     },
     "output_type": "display_data"
    }
   ],
   "source": [
    "import matplotlib\n",
    "from matplotlib.ticker import FuncFormatter, MaxNLocator\n",
    "%matplotlib inline\n",
    "\n",
    "data = p_df.sort_values(by='acqStamp')\n",
    "\n",
    "def format_fn(tick_val, tick_pos):\n",
    "        return pd.to_datetime(tick_val,unit='ns')\n",
    "\n",
    "myplot=data.plot(x='acqStamp',y='current_18V', figsize=(15,5))\n",
    "myplot.set_xlabel('Time')\n",
    "myplot.set_ylabel('Current')\n",
    "\n",
    "myplot.xaxis.set_major_formatter(FuncFormatter(format_fn))\n",
    "myplot.xaxis.set_major_locator(MaxNLocator(integer=True))\n",
    "myplot.tick_params(axis='x', which='major', labelsize='small', labelcolor='r', rotation=45)\n"
   ]
  },
  {
   "cell_type": "markdown",
   "metadata": {},
   "source": [
    "## 2) Read TGM data"
   ]
  },
  {
   "cell_type": "code",
   "execution_count": 9,
   "metadata": {},
   "outputs": [],
   "source": [
    "tgmData = DevicePropertyQuery \\\n",
    "                .builder(spark) \\\n",
    "                .system(\"CMW\") \\\n",
    "                .startTime(\"2022-11-01 00:00:00.000\") \\\n",
    "                .endTime(\"2022-11-02 00:00:00.000\") \\\n",
    "                .entity() \\\n",
    "                .device(\"CPS.TGM\") \\\n",
    "                .property(\"FULL-TELEGRAM.STRC\") \\\n",
    "                .buildDataset()"
   ]
  },
  {
   "cell_type": "code",
   "execution_count": 10,
   "metadata": {},
   "outputs": [
    {
     "data": {
      "text/html": [
       "<div>\n",
       "<style scoped>\n",
       "    .dataframe tbody tr th:only-of-type {\n",
       "        vertical-align: middle;\n",
       "    }\n",
       "\n",
       "    .dataframe tbody tr th {\n",
       "        vertical-align: top;\n",
       "    }\n",
       "\n",
       "    .dataframe thead th {\n",
       "        text-align: right;\n",
       "    }\n",
       "</style>\n",
       "<table border=\"1\" class=\"dataframe\">\n",
       "  <thead>\n",
       "    <tr style=\"text-align: right;\">\n",
       "      <th></th>\n",
       "      <th>BATCH</th>\n",
       "      <th>BEAMID</th>\n",
       "      <th>BPNM</th>\n",
       "      <th>COMLN</th>\n",
       "      <th>CYCLE</th>\n",
       "      <th>CYTAG</th>\n",
       "      <th>DEST</th>\n",
       "      <th>DEST2</th>\n",
       "      <th>DURN</th>\n",
       "      <th>FREE14</th>\n",
       "      <th>...</th>\n",
       "      <th>USER</th>\n",
       "      <th>__record_timestamp__</th>\n",
       "      <th>__record_version__</th>\n",
       "      <th>acqStamp</th>\n",
       "      <th>class</th>\n",
       "      <th>cyclestamp</th>\n",
       "      <th>device</th>\n",
       "      <th>property</th>\n",
       "      <th>selector</th>\n",
       "      <th>nxcals_entity_id</th>\n",
       "    </tr>\n",
       "  </thead>\n",
       "  <tbody>\n",
       "    <tr>\n",
       "      <th>0</th>\n",
       "      <td>0</td>\n",
       "      <td>57090</td>\n",
       "      <td>64</td>\n",
       "      <td>None</td>\n",
       "      <td>48</td>\n",
       "      <td>NaN</td>\n",
       "      <td>PS_DUMP</td>\n",
       "      <td>NONE</td>\n",
       "      <td>1</td>\n",
       "      <td>NaN</td>\n",
       "      <td>...</td>\n",
       "      <td>ZERO</td>\n",
       "      <td>1667260813900000000</td>\n",
       "      <td>0</td>\n",
       "      <td>1667260813850000000</td>\n",
       "      <td>CPS.TGM</td>\n",
       "      <td>1667260813900000000</td>\n",
       "      <td>CPS.TGM</td>\n",
       "      <td>FULL-TELEGRAM.STRC</td>\n",
       "      <td>CPS.USER.ALL</td>\n",
       "      <td>46955</td>\n",
       "    </tr>\n",
       "    <tr>\n",
       "      <th>1</th>\n",
       "      <td>0</td>\n",
       "      <td>16555</td>\n",
       "      <td>25</td>\n",
       "      <td>None</td>\n",
       "      <td>22</td>\n",
       "      <td>NaN</td>\n",
       "      <td>NTOF</td>\n",
       "      <td>NONE</td>\n",
       "      <td>1</td>\n",
       "      <td>NaN</td>\n",
       "      <td>...</td>\n",
       "      <td>TOF</td>\n",
       "      <td>1667260848700000000</td>\n",
       "      <td>0</td>\n",
       "      <td>1667260848650000000</td>\n",
       "      <td>CPS.TGM</td>\n",
       "      <td>1667260848700000000</td>\n",
       "      <td>CPS.TGM</td>\n",
       "      <td>FULL-TELEGRAM.STRC</td>\n",
       "      <td>CPS.USER.ALL</td>\n",
       "      <td>46955</td>\n",
       "    </tr>\n",
       "  </tbody>\n",
       "</table>\n",
       "<p>2 rows × 34 columns</p>\n",
       "</div>"
      ],
      "text/plain": [
       "   BATCH  BEAMID  BPNM COMLN  CYCLE  CYTAG     DEST DEST2  DURN  FREE14  ...  \\\n",
       "0      0   57090    64  None     48    NaN  PS_DUMP  NONE     1     NaN  ...   \n",
       "1      0   16555    25  None     22    NaN     NTOF  NONE     1     NaN  ...   \n",
       "\n",
       "   USER __record_timestamp__ __record_version__             acqStamp    class  \\\n",
       "0  ZERO  1667260813900000000                  0  1667260813850000000  CPS.TGM   \n",
       "1   TOF  1667260848700000000                  0  1667260848650000000  CPS.TGM   \n",
       "\n",
       "            cyclestamp   device            property      selector  \\\n",
       "0  1667260813900000000  CPS.TGM  FULL-TELEGRAM.STRC  CPS.USER.ALL   \n",
       "1  1667260848700000000  CPS.TGM  FULL-TELEGRAM.STRC  CPS.USER.ALL   \n",
       "\n",
       "  nxcals_entity_id  \n",
       "0            46955  \n",
       "1            46955  \n",
       "\n",
       "[2 rows x 34 columns]"
      ]
     },
     "execution_count": 10,
     "metadata": {},
     "output_type": "execute_result"
    }
   ],
   "source": [
    "tgmData.toPandas()[:2]"
   ]
  },
  {
   "cell_type": "code",
   "execution_count": 11,
   "metadata": {},
   "outputs": [
    {
     "name": "stdout",
     "output_type": "stream",
     "text": [
      "+--------+-----+\n",
      "|    USER|count|\n",
      "+--------+-----+\n",
      "|     MD4|  263|\n",
      "| LHCIND2|  212|\n",
      "|   EAST1| 4205|\n",
      "|      AD|  746|\n",
      "|    LHC5|   70|\n",
      "|     MD6|  276|\n",
      "|LHCPILOT|   64|\n",
      "|    ION3| 1095|\n",
      "|    ZERO|15940|\n",
      "| SFTPRO3| 3473|\n",
      "|    ION1| 2168|\n",
      "|   EAST3| 6691|\n",
      "|     MD2|  297|\n",
      "|    LHC3| 1205|\n",
      "|    MD10|   93|\n",
      "| SFTPRO1| 1364|\n",
      "|     TOF|13072|\n",
      "|     MD5|  117|\n",
      "| SFTPRO2| 1921|\n",
      "+--------+-----+\n",
      "\n"
     ]
    }
   ],
   "source": [
    "# Aggregate and count per user\n",
    "tgmData.groupBy(\"USER\").count().show()"
   ]
  },
  {
   "cell_type": "code",
   "execution_count": 12,
   "metadata": {},
   "outputs": [],
   "source": [
    "spark.stop()"
   ]
  },
  {
   "cell_type": "code",
   "execution_count": null,
   "metadata": {},
   "outputs": [],
   "source": []
  }
 ],
 "metadata": {
  "kernelspec": {
   "display_name": "Python 3",
   "language": "python",
   "name": "python3"
  },
  "language_info": {
   "codemirror_mode": {
    "name": "ipython",
    "version": 3
   },
   "file_extension": ".py",
   "mimetype": "text/x-python",
   "name": "python",
   "nbconvert_exporter": "python",
   "pygments_lexer": "ipython3",
   "version": "3.8.6"
  },
  "sparkconnect": {
   "bundled_options": [
    "NXCALS_NEW",
    "NXCALS"
   ],
   "list_of_options": []
  }
 },
 "nbformat": 4,
 "nbformat_minor": 2
}
